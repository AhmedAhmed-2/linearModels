{
 "cells": [
  {
   "cell_type": "markdown",
   "metadata": {},
   "source": [
    "# Linear Modeling\n",
    "\n",
    "The goal of this lab is to design a class for linear regression, using no classes or functions from Scikit-Learn.\n",
    "\n",
    "Ensure your class satisfies:\n",
    "- Includes a class method to fit the model to a Pandas dataframe $X$ and a Pandas series $y$\n",
    "- Includes a class method to solve for the optimal coefficients\n",
    "- Includes a class method to make predictions, given a new matrix $\\hat{X}$\n",
    "- Does not invert any matrices explicitly. Instead, solve the normal equations using `np.lingalg.solve`.\n",
    "- It can be instructed to automatically perform a train-test split and return performance metrics on the test set.\n",
    "- It can provide metrics including SSE, MSE, RMSE, and $R^2$.\n",
    "\n",
    "Before programming your class, consider the following questions and record the answers:\n",
    "- How does your class handle categorical data? How does Sci-kit do it?\n",
    "- How does your class handle missing data? How does Sci-kit do it?\n",
    "- Does your class have any methods for creating polynomial expansions or otherwise transforming data? How does Sci-kit do it?\n",
    "- How does your class handle the bias/intercept/constant? How does Sci-kit do it?\n",
    "- What output do you automatically provide to the user? Why? How does Sci-kit do it?\n",
    "- Are you including any tools for statistical inference? How does Sci-kit do it?\n",
    "\n",
    "In order to measure how long it takes to run code, you can `import time`, and \n",
    "\n",
    "```\n",
    "start = time.time()\n",
    "<expressions and code>\n",
    "finish = time.time()\n",
    "runtime = start-finish\n",
    "```\n",
    "\n",
    "For the `heart_hw.csv` and `cars_hw.csv` data in the assignment folder, run some regressions and compare the performance of your class with Sci-Kit's linear regression model. Do you get the same answers for the optimal coefficients, SSE, and $R^2$? Which one runs faster?\n",
    "\n"
   ]
  }
 ],
 "metadata": {
  "language_info": {
   "name": "python"
  }
 },
 "nbformat": 4,
 "nbformat_minor": 2
}
